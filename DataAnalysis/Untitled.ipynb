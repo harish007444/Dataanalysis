{
 "cells": [
  {
   "cell_type": "code",
   "execution_count": 2,
   "id": "c6867a72",
   "metadata": {},
   "outputs": [
    {
     "name": "stdout",
     "output_type": "stream",
     "text": [
      "Defaulting to user installation because normal site-packages is not writeable\n",
      "Collecting mlxtend\n",
      "  Obtaining dependency information for mlxtend from https://files.pythonhosted.org/packages/73/da/d5d77a9a7a135c948dbf8d3b873655b105a152d69e590150c83d23c3d070/mlxtend-0.23.0-py3-none-any.whl.metadata\n",
      "  Downloading mlxtend-0.23.0-py3-none-any.whl.metadata (7.3 kB)\n",
      "Requirement already satisfied: scipy>=1.2.1 in c:\\programdata\\anaconda3\\lib\\site-packages (from mlxtend) (1.10.1)\n",
      "Requirement already satisfied: numpy>=1.16.2 in c:\\programdata\\anaconda3\\lib\\site-packages (from mlxtend) (1.24.3)\n",
      "Requirement already satisfied: pandas>=0.24.2 in c:\\programdata\\anaconda3\\lib\\site-packages (from mlxtend) (1.5.3)\n",
      "Requirement already satisfied: scikit-learn>=1.0.2 in c:\\programdata\\anaconda3\\lib\\site-packages (from mlxtend) (1.3.0)\n",
      "Requirement already satisfied: matplotlib>=3.0.0 in c:\\programdata\\anaconda3\\lib\\site-packages (from mlxtend) (3.7.1)\n",
      "Requirement already satisfied: joblib>=0.13.2 in c:\\programdata\\anaconda3\\lib\\site-packages (from mlxtend) (1.2.0)\n",
      "Requirement already satisfied: contourpy>=1.0.1 in c:\\programdata\\anaconda3\\lib\\site-packages (from matplotlib>=3.0.0->mlxtend) (1.0.5)\n",
      "Requirement already satisfied: cycler>=0.10 in c:\\programdata\\anaconda3\\lib\\site-packages (from matplotlib>=3.0.0->mlxtend) (0.11.0)\n",
      "Requirement already satisfied: fonttools>=4.22.0 in c:\\programdata\\anaconda3\\lib\\site-packages (from matplotlib>=3.0.0->mlxtend) (4.25.0)\n",
      "Requirement already satisfied: kiwisolver>=1.0.1 in c:\\programdata\\anaconda3\\lib\\site-packages (from matplotlib>=3.0.0->mlxtend) (1.4.4)\n",
      "Requirement already satisfied: packaging>=20.0 in c:\\programdata\\anaconda3\\lib\\site-packages (from matplotlib>=3.0.0->mlxtend) (23.0)\n",
      "Requirement already satisfied: pillow>=6.2.0 in c:\\programdata\\anaconda3\\lib\\site-packages (from matplotlib>=3.0.0->mlxtend) (9.4.0)\n",
      "Requirement already satisfied: pyparsing>=2.3.1 in c:\\programdata\\anaconda3\\lib\\site-packages (from matplotlib>=3.0.0->mlxtend) (3.0.9)\n",
      "Requirement already satisfied: python-dateutil>=2.7 in c:\\programdata\\anaconda3\\lib\\site-packages (from matplotlib>=3.0.0->mlxtend) (2.8.2)\n",
      "Requirement already satisfied: pytz>=2020.1 in c:\\programdata\\anaconda3\\lib\\site-packages (from pandas>=0.24.2->mlxtend) (2022.7)\n",
      "Requirement already satisfied: threadpoolctl>=2.0.0 in c:\\programdata\\anaconda3\\lib\\site-packages (from scikit-learn>=1.0.2->mlxtend) (2.2.0)\n",
      "Requirement already satisfied: six>=1.5 in c:\\programdata\\anaconda3\\lib\\site-packages (from python-dateutil>=2.7->matplotlib>=3.0.0->mlxtend) (1.16.0)\n",
      "Downloading mlxtend-0.23.0-py3-none-any.whl (1.4 MB)\n",
      "   ---------------------------------------- 0.0/1.4 MB ? eta -:--:--\n",
      "    --------------------------------------- 0.0/1.4 MB 1.4 MB/s eta 0:00:02\n",
      "   - -------------------------------------- 0.1/1.4 MB 787.7 kB/s eta 0:00:02\n",
      "   --- ------------------------------------ 0.1/1.4 MB 939.4 kB/s eta 0:00:02\n",
      "   --- ------------------------------------ 0.1/1.4 MB 853.3 kB/s eta 0:00:02\n",
      "   ----- ---------------------------------- 0.2/1.4 MB 845.5 kB/s eta 0:00:02\n",
      "   ------ --------------------------------- 0.2/1.4 MB 860.2 kB/s eta 0:00:02\n",
      "   ------ --------------------------------- 0.2/1.4 MB 758.5 kB/s eta 0:00:02\n",
      "   ------- -------------------------------- 0.3/1.4 MB 776.2 kB/s eta 0:00:02\n",
      "   -------- ------------------------------- 0.3/1.4 MB 761.4 kB/s eta 0:00:02\n",
      "   -------- ------------------------------- 0.3/1.4 MB 703.0 kB/s eta 0:00:02\n",
      "   --------- ------------------------------ 0.4/1.4 MB 743.9 kB/s eta 0:00:02\n",
      "   ----------- ---------------------------- 0.4/1.4 MB 732.8 kB/s eta 0:00:02\n",
      "   ----------- ---------------------------- 0.4/1.4 MB 747.0 kB/s eta 0:00:02\n",
      "   ------------- -------------------------- 0.5/1.4 MB 736.0 kB/s eta 0:00:02\n",
      "   -------------- ------------------------- 0.5/1.4 MB 746.7 kB/s eta 0:00:02\n",
      "   -------------- ------------------------- 0.5/1.4 MB 711.5 kB/s eta 0:00:02\n",
      "   -------------- ------------------------- 0.5/1.4 MB 710.0 kB/s eta 0:00:02\n",
      "   --------------- ------------------------ 0.6/1.4 MB 706.6 kB/s eta 0:00:02\n",
      "   ---------------- ----------------------- 0.6/1.4 MB 704.9 kB/s eta 0:00:02\n",
      "   ----------------- ---------------------- 0.6/1.4 MB 678.1 kB/s eta 0:00:02\n",
      "   ----------------- ---------------------- 0.6/1.4 MB 677.6 kB/s eta 0:00:02\n",
      "   ------------------ --------------------- 0.7/1.4 MB 665.6 kB/s eta 0:00:02\n",
      "   ------------------- -------------------- 0.7/1.4 MB 655.3 kB/s eta 0:00:02\n",
      "   ------------------- -------------------- 0.7/1.4 MB 645.9 kB/s eta 0:00:02\n",
      "   -------------------- ------------------- 0.7/1.4 MB 637.8 kB/s eta 0:00:02\n",
      "   -------------------- ------------------- 0.8/1.4 MB 637.8 kB/s eta 0:00:02\n",
      "   --------------------- ------------------ 0.8/1.4 MB 630.5 kB/s eta 0:00:02\n",
      "   ---------------------- ----------------- 0.8/1.4 MB 623.5 kB/s eta 0:00:02\n",
      "   ---------------------- ----------------- 0.8/1.4 MB 616.6 kB/s eta 0:00:02\n",
      "   ----------------------- ---------------- 0.8/1.4 MB 617.6 kB/s eta 0:00:01\n",
      "   ----------------------- ---------------- 0.9/1.4 MB 611.5 kB/s eta 0:00:01\n",
      "   ------------------------ --------------- 0.9/1.4 MB 598.6 kB/s eta 0:00:01\n",
      "   ------------------------ --------------- 0.9/1.4 MB 599.9 kB/s eta 0:00:01\n",
      "   ------------------------- -------------- 0.9/1.4 MB 589.1 kB/s eta 0:00:01\n",
      "   ------------------------- -------------- 0.9/1.4 MB 585.0 kB/s eta 0:00:01\n",
      "   -------------------------- ------------- 1.0/1.4 MB 574.4 kB/s eta 0:00:01\n",
      "   -------------------------- ------------- 1.0/1.4 MB 570.6 kB/s eta 0:00:01\n",
      "   --------------------------- ------------ 1.0/1.4 MB 566.2 kB/s eta 0:00:01\n",
      "   --------------------------- ------------ 1.0/1.4 MB 562.8 kB/s eta 0:00:01\n",
      "   ---------------------------- ----------- 1.0/1.4 MB 559.5 kB/s eta 0:00:01\n",
      "   ---------------------------- ----------- 1.0/1.4 MB 546.1 kB/s eta 0:00:01\n",
      "   ----------------------------- ---------- 1.1/1.4 MB 543.4 kB/s eta 0:00:01\n",
      "   ----------------------------- ---------- 1.1/1.4 MB 535.9 kB/s eta 0:00:01\n",
      "   ----------------------------- ---------- 1.1/1.4 MB 537.6 kB/s eta 0:00:01\n",
      "   ------------------------------ --------- 1.1/1.4 MB 535.3 kB/s eta 0:00:01\n",
      "   ------------------------------ --------- 1.1/1.4 MB 528.4 kB/s eta 0:00:01\n",
      "   ------------------------------- -------- 1.1/1.4 MB 523.3 kB/s eta 0:00:01\n",
      "   ------------------------------- -------- 1.1/1.4 MB 523.3 kB/s eta 0:00:01\n",
      "   -------------------------------- ------- 1.2/1.4 MB 518.0 kB/s eta 0:00:01\n",
      "   -------------------------------- ------- 1.2/1.4 MB 516.3 kB/s eta 0:00:01\n",
      "   --------------------------------- ------ 1.2/1.4 MB 512.2 kB/s eta 0:00:01\n",
      "   ---------------------------------- ----- 1.2/1.4 MB 515.0 kB/s eta 0:00:01\n",
      "   ----------------------------------- ---- 1.3/1.4 MB 516.8 kB/s eta 0:00:01\n",
      "   ----------------------------------- ---- 1.3/1.4 MB 519.4 kB/s eta 0:00:01\n",
      "   ------------------------------------ --- 1.3/1.4 MB 521.9 kB/s eta 0:00:01\n",
      "   ------------------------------------- -- 1.4/1.4 MB 523.6 kB/s eta 0:00:01\n",
      "   -------------------------------------- - 1.4/1.4 MB 522.7 kB/s eta 0:00:01\n",
      "   -------------------------------------- - 1.4/1.4 MB 525.0 kB/s eta 0:00:01\n",
      "   ---------------------------------------  1.4/1.4 MB 526.6 kB/s eta 0:00:01\n",
      "   ---------------------------------------- 1.4/1.4 MB 520.6 kB/s eta 0:00:00\n",
      "Installing collected packages: mlxtend\n",
      "Successfully installed mlxtend-0.23.0\n",
      "Note: you may need to restart the kernel to use updated packages.\n"
     ]
    }
   ],
   "source": [
    "pip install mlxtend"
   ]
  },
  {
   "cell_type": "code",
   "execution_count": 2,
   "id": "af6f89db",
   "metadata": {},
   "outputs": [],
   "source": [
    "import matplotlib.pyplot as plt\n",
    "import pandas as pd\n",
    "from sklearn import datasets, neighbors\n"
   ]
  },
  {
   "cell_type": "code",
   "execution_count": 3,
   "id": "ffb3671d",
   "metadata": {},
   "outputs": [],
   "source": [
    "from mlxtend.plotting import plot_decision_regions"
   ]
  },
  {
   "cell_type": "code",
   "execution_count": 7,
   "id": "97e39aa5",
   "metadata": {},
   "outputs": [],
   "source": [
    "def knn_comparison(data, k):\n",
    " x = data[['X','Y']].values\n",
    " y = data['class'].astype(int).values\n",
    " clf = neighbors.KNeighborsClassifier(n_neighbors=k)\n",
    " clf.fit(x, y)\n",
    "# Plotting decision region\n",
    " plot_decision_regions(x, y, clf=clf, legend=2)\n",
    "# Adding axes annotations\n",
    " plt.xlabel('X')\n",
    " plt.ylabel('Y')\n",
    " plt.title('Knn with K='+ str(k))\n",
    " plt.show()"
   ]
  },
  {
   "cell_type": "markdown",
   "id": "6b3f2cff",
   "metadata": {},
   "source": [
    "# 1. U Shaped\n",
    "\n",
    "\n"
   ]
  }
 ],
 "metadata": {
  "kernelspec": {
   "display_name": "Python 3 (ipykernel)",
   "language": "python",
   "name": "python3"
  },
  "language_info": {
   "codemirror_mode": {
    "name": "ipython",
    "version": 3
   },
   "file_extension": ".py",
   "mimetype": "text/x-python",
   "name": "python",
   "nbconvert_exporter": "python",
   "pygments_lexer": "ipython3",
   "version": "3.11.4"
  }
 },
 "nbformat": 4,
 "nbformat_minor": 5
}
